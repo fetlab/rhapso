{
 "cells": [
  {
   "cell_type": "code",
   "execution_count": null,
   "id": "6cef998b-4266-474a-ac41-f2c92ca748dd",
   "metadata": {
    "tags": []
   },
   "outputs": [],
   "source": [
    "%load_ext autoreload\n",
    "%autoreload 2\n",
    "from itertools  import pairwise\n",
    "from threader   import Threader\n",
    "from geometry   import GSegment, GPoint, list2gsegments\n",
    "from tlayer     import TLayer\n",
    "from gcode_file import GcodeFile\n",
    "from pathlib    import Path\n",
    "from util       import deep_update\n",
    "\n",
    "from Geometry3D import HalfLine, Segment, Point\n",
    "from Geometry3D.calc import intersection\n",
    "\n",
    "import logger, plotting, plot_styles\n",
    "import plot_helpers, util\n",
    "import sys\n",
    "import plotly.graph_objects as go\n",
    "\n",
    "from plot_helpers import quickplot\n",
    "\n",
    "#This module has settings specific to our current printer setup\n",
    "try:\n",
    "    import ender3v2 as ender3\n",
    "except ImportError:\n",
    "    import ender3\n",
    "    \n",
    "from manualprinter import Manualprinter"
   ]
  },
  {
   "cell_type": "code",
   "execution_count": null,
   "id": "31e40456-605e-43b6-8a79-860164fe4cd0",
   "metadata": {
    "tags": []
   },
   "outputs": [],
   "source": [
    "test_root = Path('./example/basic test/')\n",
    "gcode_filename = test_root.joinpath('basic test-cura.gcode')\n",
    "thread_geom = [\n",
    "    (47, 70, .4),\n",
    "    (65, 80, .4),\n",
    "    (65, 93.02, .8),\n",
    "    (60.042, 99.364, .8),\n",
    "    (69.113, 106.435, .8),\n",
    "    (69.113, 111.435, .8),\n",
    "]"
   ]
  },
  {
   "cell_type": "code",
   "execution_count": null,
   "id": "752ee6ac-e892-4d72-8abd-3c5f5c13d6ff",
   "metadata": {
    "tags": []
   },
   "outputs": [],
   "source": [
    "logger.restart_logging()\n",
    "gcode = GcodeFile(gcode_filename, layer_class=TLayer)\n",
    "threader = Threader(gcode, 'manualprinter.yaml', thread_geom)\n",
    "threader.route_model()"
   ]
  },
  {
   "cell_type": "code",
   "execution_count": null,
   "id": "5c4210b6-0595-4573-a469-badebb721eb7",
   "metadata": {
    "tags": []
   },
   "outputs": [],
   "source": [
    "threader.save(test_root.joinpath('basic test-routed.gcode'))"
   ]
  },
  {
   "cell_type": "code",
   "execution_count": null,
   "id": "508218b2-6418-46fc-8bc3-781289b37620",
   "metadata": {},
   "outputs": [],
   "source": [
    "paper_styles = deep_update(plot_helpers.styles, {\n",
    "    'future_thread': {'line': dict(color='#b28600',    width=3,  dash='dash')},\n",
    "    'gc_segs':       {'line': dict(width=2)},\n",
    "    #'old_segs':      {'line': dict(width=2)},\n",
    "    'to_print':      {'line': dict(color='#1192e8', dash='dot'), 'opacity': 1},\n",
    "    'thread_ring':   {'line': dict(color='#b28600', width=3, dash='dash')},\n",
    "    'printed_thread':{'line': dict(color='#b28600', width=3, dash=None)},\n",
    "    'anchor':        {'marker': dict(symbol='circle', size=6)},\n",
    "    'original_thread': {'line': dict(color='gray', width=2, dash='dot')},\n",
    "    'original_anchor': {'marker': dict(color='gray', symbol='circle', size=6)},\n",
    "})"
   ]
  },
  {
   "cell_type": "code",
   "execution_count": null,
   "id": "f95e411c-6d71-4a5b-8a45-fb1850047db5",
   "metadata": {
    "tags": []
   },
   "outputs": [],
   "source": [
    "# test_layer = 3\n",
    "figs = plotting.plot_steps(threader.layer_steps[test_layer], template='plotly_white',\n",
    "    styles=paper_styles,\n",
    "    zoom_box=((60.2, 90.2), (69.8, 109.8)),\n",
    "    show_args={\n",
    "        'xaxis':dict(showgrid=False, showticklabels=False),\n",
    "        'yaxis':dict(showgrid=False, showticklabels=False)\n",
    "    }, show=False\n",
    "                          )#, prev_layer=gcode.layers[test_layer-1], prev_layer_only_outline=False, preview_layer=False)\n",
    "#plotting.plot_test(threader.layer_steps[1])"
   ]
  },
  {
   "cell_type": "code",
   "execution_count": null,
   "id": "577d0d51-492f-4e2c-9f96-3de24b69e077",
   "metadata": {
    "tags": []
   },
   "outputs": [],
   "source": [
    "fig = go.Figure()\n",
    "plot_helpers.plot_segments(fig, gcode.layers[3].geometry.segments, style=paper_styles['gc_segs'])\n",
    "plot_helpers.plot_segments(fig, [GSegment(a,b) for (a,b) in pairwise(thread_geom) if a != b], style=paper_styles['original_thread'], mode='markers+lines', **paper_styles['original_anchor'])\n",
    "plot_helpers.plot_segments(fig, [GSegment(a,b) for (a,b) in pairwise([step.thread_path.point for step in threader.layer_steps[3].steps]) if a != b], style=paper_styles['future_thread'], mode='markers+lines', **paper_styles['anchor'])\n",
    "plot_helpers.show_fig(fig, template='plotly_white',\n",
    "    zoom_box=((60.2, 90.2), (69.8, 109.8)),\n",
    "    xaxis=dict(showgrid=False, showticklabels=False),\n",
    "    yaxis=dict(showgrid=False, showticklabels=False),\n",
    ")\n",
    "fig.write_image('route-preview.pdf')"
   ]
  },
  {
   "cell_type": "code",
   "execution_count": null,
   "id": "9d98ae77-ffd5-43ca-a83c-7d1b28fe016f",
   "metadata": {
    "tags": []
   },
   "outputs": [],
   "source": [
    "for i,fig in enumerate(figs):\n",
    "    fig.write_image(f'route{i:02}.pdf')"
   ]
  },
  {
   "cell_type": "code",
   "execution_count": null,
   "id": "a6209759-ad71-449c-a181-fa4d30975e75",
   "metadata": {
    "tags": []
   },
   "outputs": [],
   "source": [
    "%pip install kaleido"
   ]
  },
  {
   "cell_type": "code",
   "execution_count": null,
   "id": "1dc96478-8bc2-4ed2-bad2-fa80fe5b7618",
   "metadata": {
    "tags": []
   },
   "outputs": [],
   "source": [
    "test_layer = 3\n",
    "plotting.plot_steps(threader.layer_steps[test_layer], prev_layer=gcode.layers[test_layer-1], prev_layer_only_outline=False)"
   ]
  },
  {
   "cell_type": "code",
   "execution_count": null,
   "id": "c77c1b6a-847f-4caf-95a7-7c49f9ddfff8",
   "metadata": {},
   "outputs": [],
   "source": []
  }
 ],
 "metadata": {
  "kernelspec": {
   "display_name": "Python 3 (ipykernel)",
   "language": "python",
   "name": "python3"
  },
  "language_info": {
   "codemirror_mode": {
    "name": "ipython",
    "version": 3
   },
   "file_extension": ".py",
   "mimetype": "text/x-python",
   "name": "python",
   "nbconvert_exporter": "python",
   "pygments_lexer": "ipython3",
   "version": "3.11.8"
  }
 },
 "nbformat": 4,
 "nbformat_minor": 5
}
